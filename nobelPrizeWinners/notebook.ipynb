{
 "cells": [
  {
   "cell_type": "markdown",
   "id": "db5bd2ce-918a-4f7d-a927-a3ea74c4b456",
   "metadata": {},
   "source": [
    "The Nobel Prize has been among the most prestigious international awards since 1901. Each year, awards are bestowed in chemistry, literature, physics, physiology or medicine, economics, and peace. In addition to the honor, prestige, and substantial prize money, the recipient also gets a gold medal with an image of Alfred Nobel (1833 - 1896), who established the prize.\n",
    "\n",
    "![](Nobel_Prize.png)\n",
    "\n",
    "The Nobel Foundation has made a dataset available of all prize winners from the outset of the awards from 1901 to 2023. The dataset used in this project is from the Nobel Prize API and is available in the `nobel.csv` file in the `data` folder.\n",
    "\n",
    "In this project, you'll get a chance to explore and answer several questions related to this prizewinning data. And we encourage you then to explore further questions that you're interested in!"
   ]
  },
  {
   "cell_type": "code",
   "execution_count": 1,
   "id": "11fd5946-7bd1-495c-aa7f-ff6e7e4a350b",
   "metadata": {
    "chartConfig": {
     "bar": {
      "hasRoundedCorners": true,
      "stacked": false
     },
     "type": "bar",
     "version": "v1"
    },
    "executionCancelledAt": null,
    "executionTime": 3387,
    "lastExecutedAt": 1703968975928,
    "lastScheduledRunId": null,
    "lastSuccessfullyExecutedCode": "# Loading in required libraries\nimport pandas as pd\nimport seaborn as sns\nimport numpy as np\nimport matplotlib.pyplot as plt\n\n# Start coding here!\nnobel  =pd.read_csv('data/nobel.csv') #loading nobel data\n\nnobel.head()",
    "outputsMetadata": {
     "0": {
      "height": 215,
      "type": "dataFrame"
     }
    },
    "visualizeDataframe": false
   },
   "outputs": [
    {
     "data": {
      "text/html": [
       "<div>\n",
       "<style scoped>\n",
       "    .dataframe tbody tr th:only-of-type {\n",
       "        vertical-align: middle;\n",
       "    }\n",
       "\n",
       "    .dataframe tbody tr th {\n",
       "        vertical-align: top;\n",
       "    }\n",
       "\n",
       "    .dataframe thead th {\n",
       "        text-align: right;\n",
       "    }\n",
       "</style>\n",
       "<table border=\"1\" class=\"dataframe\">\n",
       "  <thead>\n",
       "    <tr style=\"text-align: right;\">\n",
       "      <th></th>\n",
       "      <th>year</th>\n",
       "      <th>category</th>\n",
       "      <th>prize</th>\n",
       "      <th>motivation</th>\n",
       "      <th>prize_share</th>\n",
       "      <th>laureate_id</th>\n",
       "      <th>laureate_type</th>\n",
       "      <th>full_name</th>\n",
       "      <th>birth_date</th>\n",
       "      <th>birth_city</th>\n",
       "      <th>birth_country</th>\n",
       "      <th>sex</th>\n",
       "      <th>organization_name</th>\n",
       "      <th>organization_city</th>\n",
       "      <th>organization_country</th>\n",
       "      <th>death_date</th>\n",
       "      <th>death_city</th>\n",
       "      <th>death_country</th>\n",
       "    </tr>\n",
       "  </thead>\n",
       "  <tbody>\n",
       "    <tr>\n",
       "      <th>0</th>\n",
       "      <td>1901</td>\n",
       "      <td>Chemistry</td>\n",
       "      <td>The Nobel Prize in Chemistry 1901</td>\n",
       "      <td>\"in recognition of the extraordinary services ...</td>\n",
       "      <td>1/1</td>\n",
       "      <td>160</td>\n",
       "      <td>Individual</td>\n",
       "      <td>Jacobus Henricus van 't Hoff</td>\n",
       "      <td>1852-08-30</td>\n",
       "      <td>Rotterdam</td>\n",
       "      <td>Netherlands</td>\n",
       "      <td>Male</td>\n",
       "      <td>Berlin University</td>\n",
       "      <td>Berlin</td>\n",
       "      <td>Germany</td>\n",
       "      <td>1911-03-01</td>\n",
       "      <td>Berlin</td>\n",
       "      <td>Germany</td>\n",
       "    </tr>\n",
       "    <tr>\n",
       "      <th>1</th>\n",
       "      <td>1901</td>\n",
       "      <td>Literature</td>\n",
       "      <td>The Nobel Prize in Literature 1901</td>\n",
       "      <td>\"in special recognition of his poetic composit...</td>\n",
       "      <td>1/1</td>\n",
       "      <td>569</td>\n",
       "      <td>Individual</td>\n",
       "      <td>Sully Prudhomme</td>\n",
       "      <td>1839-03-16</td>\n",
       "      <td>Paris</td>\n",
       "      <td>France</td>\n",
       "      <td>Male</td>\n",
       "      <td>NaN</td>\n",
       "      <td>NaN</td>\n",
       "      <td>NaN</td>\n",
       "      <td>1907-09-07</td>\n",
       "      <td>Châtenay</td>\n",
       "      <td>France</td>\n",
       "    </tr>\n",
       "    <tr>\n",
       "      <th>2</th>\n",
       "      <td>1901</td>\n",
       "      <td>Medicine</td>\n",
       "      <td>The Nobel Prize in Physiology or Medicine 1901</td>\n",
       "      <td>\"for his work on serum therapy, especially its...</td>\n",
       "      <td>1/1</td>\n",
       "      <td>293</td>\n",
       "      <td>Individual</td>\n",
       "      <td>Emil Adolf von Behring</td>\n",
       "      <td>1854-03-15</td>\n",
       "      <td>Hansdorf (Lawice)</td>\n",
       "      <td>Prussia (Poland)</td>\n",
       "      <td>Male</td>\n",
       "      <td>Marburg University</td>\n",
       "      <td>Marburg</td>\n",
       "      <td>Germany</td>\n",
       "      <td>1917-03-31</td>\n",
       "      <td>Marburg</td>\n",
       "      <td>Germany</td>\n",
       "    </tr>\n",
       "    <tr>\n",
       "      <th>3</th>\n",
       "      <td>1901</td>\n",
       "      <td>Peace</td>\n",
       "      <td>The Nobel Peace Prize 1901</td>\n",
       "      <td>NaN</td>\n",
       "      <td>1/2</td>\n",
       "      <td>462</td>\n",
       "      <td>Individual</td>\n",
       "      <td>Jean Henry Dunant</td>\n",
       "      <td>1828-05-08</td>\n",
       "      <td>Geneva</td>\n",
       "      <td>Switzerland</td>\n",
       "      <td>Male</td>\n",
       "      <td>NaN</td>\n",
       "      <td>NaN</td>\n",
       "      <td>NaN</td>\n",
       "      <td>1910-10-30</td>\n",
       "      <td>Heiden</td>\n",
       "      <td>Switzerland</td>\n",
       "    </tr>\n",
       "    <tr>\n",
       "      <th>4</th>\n",
       "      <td>1901</td>\n",
       "      <td>Peace</td>\n",
       "      <td>The Nobel Peace Prize 1901</td>\n",
       "      <td>NaN</td>\n",
       "      <td>1/2</td>\n",
       "      <td>463</td>\n",
       "      <td>Individual</td>\n",
       "      <td>Frédéric Passy</td>\n",
       "      <td>1822-05-20</td>\n",
       "      <td>Paris</td>\n",
       "      <td>France</td>\n",
       "      <td>Male</td>\n",
       "      <td>NaN</td>\n",
       "      <td>NaN</td>\n",
       "      <td>NaN</td>\n",
       "      <td>1912-06-12</td>\n",
       "      <td>Paris</td>\n",
       "      <td>France</td>\n",
       "    </tr>\n",
       "  </tbody>\n",
       "</table>\n",
       "</div>"
      ],
      "text/plain": [
       "   year    category                                           prize  \\\n",
       "0  1901   Chemistry               The Nobel Prize in Chemistry 1901   \n",
       "1  1901  Literature              The Nobel Prize in Literature 1901   \n",
       "2  1901    Medicine  The Nobel Prize in Physiology or Medicine 1901   \n",
       "3  1901       Peace                      The Nobel Peace Prize 1901   \n",
       "4  1901       Peace                      The Nobel Peace Prize 1901   \n",
       "\n",
       "                                          motivation prize_share  laureate_id  \\\n",
       "0  \"in recognition of the extraordinary services ...         1/1          160   \n",
       "1  \"in special recognition of his poetic composit...         1/1          569   \n",
       "2  \"for his work on serum therapy, especially its...         1/1          293   \n",
       "3                                                NaN         1/2          462   \n",
       "4                                                NaN         1/2          463   \n",
       "\n",
       "  laureate_type                     full_name  birth_date         birth_city  \\\n",
       "0    Individual  Jacobus Henricus van 't Hoff  1852-08-30          Rotterdam   \n",
       "1    Individual               Sully Prudhomme  1839-03-16              Paris   \n",
       "2    Individual        Emil Adolf von Behring  1854-03-15  Hansdorf (Lawice)   \n",
       "3    Individual             Jean Henry Dunant  1828-05-08             Geneva   \n",
       "4    Individual                Frédéric Passy  1822-05-20              Paris   \n",
       "\n",
       "      birth_country   sex   organization_name organization_city  \\\n",
       "0       Netherlands  Male   Berlin University            Berlin   \n",
       "1            France  Male                 NaN               NaN   \n",
       "2  Prussia (Poland)  Male  Marburg University           Marburg   \n",
       "3       Switzerland  Male                 NaN               NaN   \n",
       "4            France  Male                 NaN               NaN   \n",
       "\n",
       "  organization_country  death_date death_city death_country  \n",
       "0              Germany  1911-03-01     Berlin       Germany  \n",
       "1                  NaN  1907-09-07   Châtenay        France  \n",
       "2              Germany  1917-03-31    Marburg       Germany  \n",
       "3                  NaN  1910-10-30     Heiden   Switzerland  \n",
       "4                  NaN  1912-06-12      Paris        France  "
      ]
     },
     "execution_count": 1,
     "metadata": {},
     "output_type": "execute_result"
    }
   ],
   "source": [
    "# Loading in required libraries\n",
    "import pandas as pd\n",
    "import seaborn as sns\n",
    "import numpy as np\n",
    "import matplotlib.pyplot as plt\n",
    "\n",
    "# Start coding here!\n",
    "nobel  =pd.read_csv('data/nobel.csv') #loading nobel data\n",
    "\n",
    "nobel.head()"
   ]
  },
  {
   "cell_type": "markdown",
   "id": "16211fa2-047b-400f-9266-213b244e2122",
   "metadata": {},
   "source": [
    "What is the most commonly awarded gender and birth country? Storing the string answers as top_gender and top_country"
   ]
  },
  {
   "cell_type": "code",
   "execution_count": 2,
   "id": "adedc9b6-d32a-4eb0-a342-486c305c47a8",
   "metadata": {
    "executionCancelledAt": null,
    "executionTime": 50,
    "lastExecutedAt": 1703968975978,
    "lastScheduledRunId": null,
    "lastSuccessfullyExecutedCode": "top_gender = nobel['sex'].value_counts().index[0]\ntop_country = nobel['birth_country'].value_counts().index[0]\n\nprint(top_gender,top_country)",
    "outputsMetadata": {
     "0": {
      "height": 37,
      "type": "stream"
     }
    }
   },
   "outputs": [
    {
     "name": "stdout",
     "output_type": "stream",
     "text": [
      "Male United States of America\n"
     ]
    }
   ],
   "source": [
    "top_gender = nobel['sex'].value_counts().index[0]\n",
    "top_country = nobel['birth_country'].value_counts().index[0]\n",
    "\n",
    "print(top_gender,top_country)"
   ]
  },
  {
   "cell_type": "markdown",
   "id": "335be9a7-6a6b-4cb3-8aa2-9e260f0a6e4c",
   "metadata": {},
   "source": [
    "What decade had the highest proportion of US-born winners? Store this as an integer called max_decade_usa."
   ]
  },
  {
   "cell_type": "code",
   "execution_count": 33,
   "id": "907f6d47-443c-4a9b-a9ca-f1cac232e00e",
   "metadata": {
    "executionCancelledAt": null,
    "executionTime": 364,
    "lastExecutedAt": 1703968976342,
    "lastScheduledRunId": null,
    "lastSuccessfullyExecutedCode": "# Calculate the proportion of USA born winners per decade\nnobel['usa_born_winner'] = nobel['birth_country'] == 'United States of America'\nnobel['decade'] = (np.floor(nobel['year'] / 10) * 10).astype(int)\nprop_usa_winners = nobel.groupby('decade', as_index=False)['usa_born_winner'].mean()\n\n# Identify the decade with the highest proportion of US-born winners\nmax_decade_usa = prop_usa_winners[prop_usa_winners['usa_born_winner'] == prop_usa_winners['usa_born_winner'].max()]['decade'].values[0]\n\n# Optional: Plotting USA born winners\nax1 = sns.relplot(x='decade', y='usa_born_winner', data=prop_usa_winners, kind=\"line\")\n"
   },
   "outputs": [
    {
     "name": "stdout",
     "output_type": "stream",
     "text": [
      "   decade  usa_born_winner\n",
      "0    1900         0.017544\n",
      "1    1910         0.075000\n",
      "2    1920         0.074074\n",
      "3    1930         0.250000\n",
      "4    1940         0.302326\n",
      "2000\n"
     ]
    },
    {
     "data": {
      "image/png": "[encoded data removed]",
      "text/plain": [
       "<Figure size 360x360 with 1 Axes>"
      ]
     },
     "metadata": {
      "needs_background": "light"
     },
     "output_type": "display_data"
    }
   ],
   "source": [
    "# Calculate the proportion of USA born winners per decade\n",
    "nobel['usa_born_winner'] = nobel['birth_country'] == 'United States of America'\n",
    "nobel['decade'] = (np.floor(nobel['year'] / 10) * 10) # find decade\n",
    "nobel['decade'] = nobel['decade'].astype('Int64') # convert to integer\n",
    "prop_usa_winners = nobel.groupby('decade', as_index=False)['usa_born_winner'].mean()  # find mean/proportion of USA born winners per decade\n",
    "print(prop_usa_winners.head())\n",
    "\n",
    "# Identify the decade with the highest proportion of US-born winners\n",
    "max_decade_usa = nobel['decade'].value_counts().index[0]\n",
    "print(max_decade_usa2)\n",
    "\n",
    "# Plotting USA winners\n",
    "g = sns.relplot(x='decade',y='usa_born_winner',data=prop_usa_winners,kind='line')\n",
    "g.fig.suptitle('Number of USA born winners per decade')\n",
    "g.set(xlabel='Decade', ylabel='Proportion')\n",
    "plt.show()\n"
   ]
  },
  {
   "cell_type": "markdown",
   "id": "68d23409-0169-44b6-8f7e-4162544db699",
   "metadata": {},
   "source": [
    "What decade and category pair had the highest proportion of female laureates? Store this as a dictionary called max_female_dict where the decade is the key and the category is the `value.`"
   ]
  },
  {
   "cell_type": "code",
   "execution_count": 22,
   "id": "50543e18-2a1a-42ff-a242-cf93e2b7883e",
   "metadata": {
    "executionCancelledAt": null,
    "executionTime": 51,
    "lastExecutedAt": 1703968976448,
    "lastScheduledRunId": null,
    "lastSuccessfullyExecutedCode": "# get decades from data and add as new column to nobelData\n#decades=(np.floor(nobelData['year']/10)*10)\n#nobelData['decade'] = decades.astype('Int64')\n\n# find female winners and store as True\n#nobelData['female_winner']=np.where(nobelData['sex']=='Female',True,False)\n#print(nobelData.head())\n    \n# Get number of female winners per decade and category\n#femaleWinners=nobelData.groupby(['decade','category'], as_index=False)['female_winner'].sum()\n#print(femaleWinners)\n\n#max_female = femaleWinners.sort_values(['female_winner'],ascending=False)\n#max_female = max_female[0:1]\n#print(max_female)\n\n#max_female_dict = pd.Series(max_female.decade.values,index=max_female.category).to_dict()\n#print(max_female_dict)\n\n\n# Calculating the proportion of female laureates per decade\nnobel['female_winner'] = nobel['sex'] == 'Female'\nprop_female_winners = nobel.groupby(['decade', 'category'], as_index=False)['female_winner'].mean()\n\n# Find the decade and category with the highest proportion of female laureates\nmax_female_decade_category = prop_female_winners[prop_female_winners['female_winner'] == prop_female_winners['female_winner'].max()][['decade', 'category']]\n\n# Create a dictionary with the decade and category pair\nmax_female_dict = {max_female_decade_category['decade'].values[0]: max_female_decade_category['category'].values[0]}\n\n",
    "outputsMetadata": {
     "0": {
      "height": 237,
      "type": "stream"
     }
    }
   },
   "outputs": [
    {
     "name": "stdout",
     "output_type": "stream",
     "text": [
      "   year    category                                           prize  \\\n",
      "0  1901   Chemistry               The Nobel Prize in Chemistry 1901   \n",
      "1  1901  Literature              The Nobel Prize in Literature 1901   \n",
      "2  1901    Medicine  The Nobel Prize in Physiology or Medicine 1901   \n",
      "3  1901       Peace                      The Nobel Peace Prize 1901   \n",
      "4  1901       Peace                      The Nobel Peace Prize 1901   \n",
      "\n",
      "                                          motivation prize_share  laureate_id  \\\n",
      "0  \"in recognition of the extraordinary services ...         1/1          160   \n",
      "1  \"in special recognition of his poetic composit...         1/1          569   \n",
      "2  \"for his work on serum therapy, especially its...         1/1          293   \n",
      "3                                                NaN         1/2          462   \n",
      "4                                                NaN         1/2          463   \n",
      "\n",
      "  laureate_type                     full_name  birth_date         birth_city  \\\n",
      "0    Individual  Jacobus Henricus van 't Hoff  1852-08-30          Rotterdam   \n",
      "1    Individual               Sully Prudhomme  1839-03-16              Paris   \n",
      "2    Individual        Emil Adolf von Behring  1854-03-15  Hansdorf (Lawice)   \n",
      "3    Individual             Jean Henry Dunant  1828-05-08             Geneva   \n",
      "4    Individual                Frédéric Passy  1822-05-20              Paris   \n",
      "\n",
      "   ...   sex   organization_name organization_city organization_country  \\\n",
      "0  ...  Male   Berlin University            Berlin              Germany   \n",
      "1  ...  Male                 NaN               NaN                  NaN   \n",
      "2  ...  Male  Marburg University           Marburg              Germany   \n",
      "3  ...  Male                 NaN               NaN                  NaN   \n",
      "4  ...  Male                 NaN               NaN                  NaN   \n",
      "\n",
      "   death_date death_city death_country usa_born_winner  decade  female_winner  \n",
      "0  1911-03-01     Berlin       Germany           False    1900          False  \n",
      "1  1907-09-07   Châtenay        France           False    1900          False  \n",
      "2  1917-03-31    Marburg       Germany           False    1900          False  \n",
      "3  1910-10-30     Heiden   Switzerland           False    1900          False  \n",
      "4  1912-06-12      Paris        France           False    1900          False  \n",
      "\n",
      "[5 rows x 21 columns]\n",
      "    decade    category  female_winner\n",
      "0     1900   Chemistry       0.000000\n",
      "1     1900  Literature       0.100000\n",
      "2     1900    Medicine       0.000000\n",
      "3     1900       Peace       0.071429\n",
      "4     1900     Physics       0.076923\n",
      "..     ...         ...            ...\n",
      "67    2020   Economics       0.111111\n",
      "68    2020  Literature       0.500000\n",
      "69    2020    Medicine       0.125000\n",
      "70    2020       Peace       0.285714\n",
      "71    2020     Physics       0.166667\n",
      "\n",
      "[72 rows x 3 columns]\n",
      "    decade    category  female_winner\n",
      "68    2020  Literature            0.5\n",
      "{'Literature': 2020}\n"
     ]
    }
   ],
   "source": [
    "# find female winners and store as True\n",
    "nobel['female_winner']=np.where(nobel['sex']=='Female',True,False)\n",
    "print(nobel.head())\n",
    "    \n",
    "# Get number of female winners per decade and category\n",
    "femaleWinners=nobel.groupby(['decade','category'], as_index=False)['female_winner'].mean()\n",
    "print(femaleWinners)\n",
    "\n",
    "# sort by ascending then take the first row\n",
    "max_female = femaleWinners.sort_values(['female_winner'],ascending=False)\n",
    "max_female = max_female[0:1]\n",
    "print(max_female)\n",
    "\n",
    "# convert to dictionary\n",
    "max_female_dict = pd.Series(max_female.decade.values,index=max_female.category).to_dict()\n",
    "print(max_female_dict)\n"
   ]
  },
  {
   "cell_type": "markdown",
   "id": "a82b62a1-a7b0-4cf4-b413-0a786c9034b1",
   "metadata": {},
   "source": [
    "Who was the first woman to receive a Nobel Prize, and in what category? Save your string answers as first_woman_name and first_woman_category."
   ]
  },
  {
   "cell_type": "code",
   "execution_count": 23,
   "id": "444f0bab-e163-4fff-a4e5-dc1ce5de4073",
   "metadata": {
    "executionCancelledAt": null,
    "executionTime": 52,
    "lastExecutedAt": 1703968976501,
    "lastScheduledRunId": null,
    "lastSuccessfullyExecutedCode": "# subset for female winners\nnobel_women = nobel[nobel['female_winner']]\nmin_row = nobel_women[nobel_women['year'] == nobel_women['year'].min()]\nfirst_woman_name = min_row['full_name'].values[0]\nfirst_woman_category = min_row['category'].values[0]\nprint(first_woman_name)\nprint(first_woman_category)\n",
    "outputsMetadata": {
     "0": {
      "height": 57,
      "type": "stream"
     }
    }
   },
   "outputs": [
    {
     "name": "stdout",
     "output_type": "stream",
     "text": [
      "Marie Curie, née Sklodowska\n",
      "Physics\n"
     ]
    }
   ],
   "source": [
    "# subset for female winners\n",
    "nobel_women = nobel[nobel['female_winner']]\n",
    "min_row = nobel_women[nobel_women['year'] == nobel_women['year'].min()]\n",
    "first_woman_name = min_row['full_name'].values[0]\n",
    "first_woman_category = min_row['category'].values[0]\n",
    "print(first_woman_name)\n",
    "print(first_woman_category)\n"
   ]
  },
  {
   "cell_type": "markdown",
   "id": "ca94a42b-43c6-4db6-b175-11bfde189963",
   "metadata": {},
   "source": [
    "Which individuals or organizations have won multiple Nobel Prizes throughout the years? Store the full names in a list named repeat_list."
   ]
  },
  {
   "cell_type": "code",
   "execution_count": 30,
   "id": "b4314359-f350-45f6-9f42-c73e170b885b",
   "metadata": {
    "executionCancelledAt": null,
    "executionTime": 60,
    "lastExecutedAt": 1703968976561,
    "lastScheduledRunId": null,
    "lastSuccessfullyExecutedCode": "# find counts all all organisation\nall_organisation_counts = nobel['organization_name'].value_counts().rename_axis('organization_name').reset_index(name='count')\n# orgs with wins >= 2\nmax_organisation = all_organisation_counts[all_organisation_counts['count'] >= 2]\n#print(max_organisation)\n\n#all_individual_counts = nobelUSA['full_name'].value_counts().rename_axis('full_name').reset_index(name='count')\n\ncounts = nobel['full_name'].value_counts()\nrepeats = counts[counts >= 2].index\n\n#max_individual = all_individual_counts[all_individual_counts['count'] >= 2]\n#print(max_individual)\n\nrepeat_list = list(repeats)\nprint(repeat_list)\n",
    "outputsMetadata": {
     "0": {
      "height": 77,
      "type": "stream"
     }
    }
   },
   "outputs": [
    {
     "name": "stdout",
     "output_type": "stream",
     "text": [
      "['Comité international de la Croix Rouge (International Committee of the Red Cross)', 'Linus Carl Pauling', 'John Bardeen', 'Frederick Sanger', 'Marie Curie, née Sklodowska', 'Office of the United Nations High Commissioner for Refugees (UNHCR)']\n"
     ]
    }
   ],
   "source": [
    "# find counts all all organisation\n",
    "all_organisation_counts = nobel['organization_name'].value_counts().rename_axis('organization_name').reset_index(name='count')\n",
    "# orgs with wins >= 2\n",
    "max_organisation = all_organisation_counts[all_organisation_counts['count'] >= 2]\n",
    "#print(max_organisation)\n",
    "\n",
    "counts = nobel['full_name'].value_counts()\n",
    "repeats = counts[counts >= 2].index\n",
    "\n",
    "repeat_list = list(repeats)\n",
    "print(repeat_list)\n"
   ]
  },
  {
   "cell_type": "code",
   "execution_count": null,
   "id": "4d8d4aaa",
   "metadata": {},
   "outputs": [],
   "source": []
  }
 ],
 "metadata": {
  "editor": "DataCamp Workspace",
  "kernelspec": {
   "display_name": "Python 3 (ipykernel)",
   "language": "python",
   "name": "python3"
  },
  "language_info": {
   "codemirror_mode": {
    "name": "ipython",
    "version": 3
   },
   "file_extension": ".py",
   "mimetype": "text/x-python",
   "name": "python",
   "nbconvert_exporter": "python",
   "pygments_lexer": "ipython3",
   "version": "3.9.12"
  }
 },
 "nbformat": 4,
 "nbformat_minor": 5
}
